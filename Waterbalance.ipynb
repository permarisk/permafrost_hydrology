{
 "cells": [
  {
   "cell_type": "code",
   "execution_count": 10,
   "id": "a6f67c70-8c0d-46fa-87d8-331a91f67001",
   "metadata": {},
   "outputs": [],
   "source": [
    "import numpy as np\n",
    "import pandas as pd\n",
    "import matplotlib as plt "
   ]
  },
  {
   "cell_type": "markdown",
   "id": "27ce27b3-99eb-4642-a017-ec6effc62df3",
   "metadata": {},
   "source": [
    "First we define the function that we are going to use for our analysis:"
   ]
  },
  {
   "cell_type": "markdown",
   "id": "29d32ae7",
   "metadata": {},
   "source": [
    "Penman-Monteith equation\n",
    "\n",
    "$\n",
    "\\lambda E T_o=\\frac{\\Delta\\left(R_n-G\\right)+\\frac{86,400 \\rho_a C_P\\left(e_s^o-e_a\\right)}{r_{a v}}}{\\Delta+\\gamma\\left(1+\\frac{r_s}{r_{a v}}\\right)}\n",
    "$"
   ]
  },
  {
   "cell_type": "code",
   "execution_count": 11,
   "id": "5cce25fb-08fd-436e-843a-d8f37357befc",
   "metadata": {},
   "outputs": [],
   "source": [
    "def PenmanMonteith(e0, ea, dedT, R_net, G, z, Uz, hc, r_s):\n",
    "    \n",
    "    gamma = 0.066 #psychrometric constant [kPa °C -1] (at sea level  101.325 kPa!)\n",
    "    rho_air = 1.2250 #density of air at seal level ( 101.325 kPa) and 15°C [kg/m³]\n",
    "    capacity_air = 1.013e-3 #heat capacity of air [MJ kg -1 °C -1]\n",
    "        \n",
    "    r_av = WaterVapourAerodynamicResistance(z, Uz, hc)\n",
    "    \n",
    "    LET1 = dedT * (R_net - G) + (86400 * rho_air * capacity_air * (e0 - ea)) / r_av\n",
    "    LET = LET1 / (dedT + gamma * (1. + r_s/r_av) )\n",
    "    \n",
    "    return LET"
   ]
  },
  {
   "cell_type": "markdown",
   "id": "3ccc3101-616c-47c2-bb8a-ead133936b0d",
   "metadata": {},
   "source": [
    "The statuaration vapour pressure [Pa] can be approximated using the August-Roche-Magnus equation\n",
    "\n",
    "${ e_{sat}(T) = 610.94 e^{\\frac{17.625 T}{T+243.04}} }$"
   ]
  },
  {
   "cell_type": "code",
   "execution_count": 12,
   "id": "54b6fa39-134f-4ca7-b3e0-c7f16c725a28",
   "metadata": {},
   "outputs": [],
   "source": [
    "def SaturationVapourPressure(T):\n",
    "    #saturation vapour pressure [Pa] - August-Roche-Magnus equation\n",
    "    e_sat = 100 * 6.1094 * np.exp(17.625*T/(T+243.04))\n",
    "    return e_sat #[Pa]"
   ]
  },
  {
   "cell_type": "markdown",
   "id": "fea2fe66-0d46-442b-8380-cdff3909236f",
   "metadata": {},
   "source": [
    "The derivative is than\n",
    "\n",
    "$\\Delta = \\frac{\\partial e_{sat}(T)}{\\partial T} = \\frac{2617010}{T+243.04} e^{\\frac{17.625 T}{T+243.04}} $"
   ]
  },
  {
   "cell_type": "code",
   "execution_count": 13,
   "id": "c20062f6-87af-4e46-947e-1c5b8304af1b",
   "metadata": {},
   "outputs": [],
   "source": [
    "def SaturationVapourPressureDerivative(T):\n",
    "    #derivative of the saturation vapour pressure [Pa/K] - August-Roche-Magnus equation\n",
    "    de_sat_dT = 2.61701e6 * np.exp(17.625*T/(T+243.04)) * (T+243.04)**(-2)\n",
    "    return de_sat_dT #[Pa/K]"
   ]
  },
  {
   "cell_type": "markdown",
   "id": "37d567f2-899e-4ae0-a583-e541c4f3d44a",
   "metadata": {},
   "source": [
    "We also need to approximate some aerodynamic parameters that control the turbulent exchange between the land surface and the atmosphere. These include the surface roughness (expressed as roughness length $z_0$ [m]) and the displacement height $d$, which marks the height [m] at which the turbulent exchange becomes effective. \n",
    "\n",
    "Estimating displacement height and roughness length based on vegetation height $h_c$\n",
    "\n",
    "$\n",
    "\\begin{aligned}\n",
    "& d = (2 / 3) h_c \\\\\n",
    "& z_{\\text {om }} = 0.123 h_c \\\\\n",
    "& z_{\\text {ov }} = 0.1 z_{\\text {om }}\n",
    "\\end{aligned}\n",
    "$\n",
    "\n",
    "With these parameters and the assumption of a logarithmic wind profile, we can calculate the aerodynamic exchange coefficient - here expressed as resistance.\n",
    "\n",
    "$\n",
    "r_{a v}=\\frac{\\ln \\left[\\frac{\\left(z_w-d\\right)}{z_{o m}}\\right] \\ln \\left[\\frac{\\left(z_r-d\\right)}{z_{o v}}\\right]}{k^2 U_z}\n",
    "$\n",
    "\n"
   ]
  },
  {
   "cell_type": "code",
   "execution_count": 14,
   "id": "ddb42a01-7140-496b-827f-20ec59bf70d5",
   "metadata": {},
   "outputs": [],
   "source": [
    "def WaterVapourAerodynamicResistance(z,Uz,hc):\n",
    "    z_w = z #wind speed measurement hight [m]\n",
    "    k = 0.41 #von Karman constant [-]\n",
    "    \n",
    "    d = 2./3. * hc #displacment hight estmated based on vegetation hight [m]\n",
    "    z_0m = 0.123 * hc #roughness length momentum [m]\n",
    "    z_0v = 0.1 * z_0m #roughness length surface [m]\n",
    "    \n",
    "    r_av = np.log((z_w-d)/z_0m) * np.log((z_w-d)/z_0v) * (k**2 * Uz)**(-1) \n",
    "    \n",
    "    return r_av"
   ]
  },
  {
   "cell_type": "code",
   "execution_count": 15,
   "id": "a4012434-8727-4a11-a482-c806057beab7",
   "metadata": {},
   "outputs": [],
   "source": [
    "#load meteorological observations\n",
    "file = 'data/Samoylov_2002-2011_meteorology.tab'\n",
    "dataset = pd.read_csv(file,delimiter=\"\\t\")\n",
    "dataset['DateTime'] = pd.to_datetime(dataset['Date/Time'])\n",
    "dataset = dataset.drop(columns=['Date/Time'])\n",
    "\n",
    "dataset = dataset.set_index(['DateTime'])\n",
    "dataset = dataset.loc['2011-1-1':'2011-8-25'] \n",
    "\n",
    "df_mean = dataset.groupby(by=pd.Grouper(freq='D')).mean()\n",
    "df_min = dataset.groupby(by=pd.Grouper(freq='D')).min()\n",
    "df_max = dataset.groupby(by=pd.Grouper(freq='D')).max()\n",
    " \n",
    "meteorology_mean = df_mean   \n",
    "meteorology_min = df_min   \n",
    "meteorology_max = df_max   \n",
    "\n",
    "#load wind speed measurments\n",
    "file = 'data/Samoylov_2002-2011_wind_speed.tab'\n",
    "#this is just a test\n",
    "dataset = pd.read_csv(file,delimiter=\"\\t\")\n",
    "dataset['DateTime'] = pd.to_datetime(dataset['Date/Time'])\n",
    "dataset = dataset.drop(columns=['Date/Time'])\n",
    "\n",
    "\n",
    "dataset = dataset.set_index(['DateTime'])\n",
    "dataset = dataset.loc['2011-1-1':'2011-8-25'] \n",
    "\n",
    "windspeed_mean = dataset.groupby(by=pd.Grouper(freq='D')).mean()"
   ]
  },
  {
   "cell_type": "code",
   "execution_count": 16,
   "id": "945ac5e1-587a-40db-92af-84f54a31c271",
   "metadata": {},
   "outputs": [
    {
     "name": "stdout",
     "output_type": "stream",
     "text": [
      "Index(['Height [m]', 'T2 [°C]', 'RH [%]', 'NET [W/m**2]', 'Precip [mm/h]'], dtype='object')\n",
      "Index(['Height [m]', 'ff [m/s]'], dtype='object')\n"
     ]
    }
   ],
   "source": [
    "print(meteorology_mean.keys())\n",
    "print(windspeed_mean.keys())"
   ]
  },
  {
   "cell_type": "code",
   "execution_count": 17,
   "id": "0372d861-de88-40a6-a39d-81f0b010bbe6",
   "metadata": {},
   "outputs": [
    {
     "data": {
      "text/plain": [
       "<matplotlib.axes._subplots.AxesSubplot at 0x7fec0fdf4970>"
      ]
     },
     "execution_count": 17,
     "metadata": {},
     "output_type": "execute_result"
    },
    {
     "data": {
      "image/png": "[encoded data removed]",
      "text/plain": [
       "<Figure size 640x480 with 1 Axes>"
      ]
     },
     "metadata": {},
     "output_type": "display_data"
    }
   ],
   "source": [
    "#variables\n",
    "Uz_av = windspeed_mean['ff [m/s]']\n",
    "Rnet = np.array([0,200,600])#[W/m²s]\n",
    "\n",
    "#Note net radiation and groud heat flux must be proved as [MJ m^2 / day] \n",
    "dt = 86400\n",
    "Rnet_av = meteorology_mean['NET [W/m**2]']\n",
    "Rnet_av = Rnet_av * dt / 1e6\n",
    "\n",
    "G_av = Rnet_av*0.02 \n",
    "T_av = meteorology_mean['T2 [°C]'] \n",
    "RH_av = meteorology_mean['RH [%]'] / 100.\n",
    "ea = RH_av * SaturationVapourPressure(T_av)/1000.\n",
    "dedT = SaturationVapourPressureDerivative(T_av)/1000.\n",
    "T_min = meteorology_min['T2 [°C]']\n",
    "T_max = meteorology_max['T2 [°C]']\n",
    "e0 = 0.5 * (SaturationVapourPressure(T_min) + SaturationVapourPressure(T_max))/1000.\n",
    "\n",
    "#input parameter for Penman Monteith equation    \n",
    "z = 3.0 #[m] wind speed mesurmeent hight above ground\n",
    "hc = 0.10 #[m] crop (vegetation) hight above ground\n",
    "rs = 250 #[-] surface resitance to evapotranspiration\n",
    "\n",
    "#apply the Penman Monteith equation \n",
    "LET = PenmanMonteith(e0, ea, dedT, Rnet_av, G_av, z, Uz_av, hc, rs) #[MJ/m²day]\n",
    "#transfrom from [MJ/day] to [mm]\n",
    "L = 2.45 #[MJ kg -1]\n",
    "ET = LET/L #[mm/day]\n",
    "\n",
    "#Note that percipitation was measured as mm/h which must be intergrated over 24h \n",
    "P = meteorology_mean['Precip [mm/h]']*24.\n",
    "S_snow = 100. #[mm] end of season snow water equivalent see/change according to e.g. Boike et al. (2013)\n",
    "\n",
    "# here we plot the cumulative sum pf  \n",
    "ET.cumsum().plot() #evapotranspiration [mm]\n",
    "(P.cumsum() + S_snow).plot() #percipitation [mm]\n"
   ]
  },
  {
   "cell_type": "markdown",
   "id": "b9cf8b1b-ac5f-4d7e-8f8d-23531686dea2",
   "metadata": {},
   "source": [
    "Now we have P and ET for the a polygonal center. So we can rename the calculated variables"
   ]
  },
  {
   "cell_type": "code",
   "execution_count": 12,
   "id": "1ac20bb9-e13b-4144-81ed-395f8f9b0578",
   "metadata": {},
   "outputs": [],
   "source": [
    "ET_c = ET\n",
    "P_c = P"
   ]
  },
  {
   "cell_type": "markdown",
   "id": "e34fe26e-3a24-429d-bd10-f8741be8407f",
   "metadata": {},
   "source": [
    "To complete our water balance the flux from the rim Q_r is still missing which we approximate as\n",
    "\n",
    "$\\huge{ Q_r \\approx 0.5 f_r (P_r - ET_r) }$\n",
    "\n",
    "$P_r$ is the same as $P_c$ so only $ET_r$ must be calculated similar to $ET_c$ but with adjusted paramters"
   ]
  },
  {
   "cell_type": "code",
   "execution_count": 21,
   "id": "b0a419a1-a1a7-49fa-befe-11f84b06accd",
   "metadata": {},
   "outputs": [],
   "source": [
    "#add here your calaculations to optaind Q_r\n",
    "\n"
   ]
  },
  {
   "cell_type": "markdown",
   "id": "9e1536a0-72f5-4939-b190-bb13f58ef50c",
   "metadata": {},
   "source": [
    "In the next step we can put the complete water budget for the polygon center together following\n",
    "\n",
    "$\\huge{ \\Delta S_c = P_c - ET_c + Q_r }$\n"
   ]
  },
  {
   "cell_type": "code",
   "execution_count": 19,
   "id": "4b312370-66cd-4c29-9ed3-6e3e418e8c7f",
   "metadata": {},
   "outputs": [],
   "source": [
    "#add here your calculations to optain the water budget changes\n",
    "\n"
   ]
  },
  {
   "cell_type": "markdown",
   "id": "1e705f63-6c89-499e-93b2-99f7509a7867",
   "metadata": {},
   "source": [
    "Now lets approximate the water table in the polygon center which is calaculated by summing up all daily water budget changes and add the initial water for the snow cover.\n",
    "\n",
    "$\\huge{ WT_c = S_{snow} + \\sum {\\Delta S_c} }$\n",
    "\n",
    "\n",
    "\n"
   ]
  },
  {
   "cell_type": "code",
   "execution_count": 20,
   "id": "db06c113-9b56-4eb2-8454-8ca304d5e68f",
   "metadata": {},
   "outputs": [],
   "source": [
    "#add here your calculations to optain the water level \n",
    "\n"
   ]
  },
  {
   "cell_type": "markdown",
   "id": "99e0d569-1613-44e6-853c-935ca6975229",
   "metadata": {},
   "source": [
    "The evolution of the water table of the polygon center can be compared to the evolution thaw depth in the polygon rim. Please note that the polygon rim is typicall 0.5m elevated.\n",
    "You find all function required to calculate the thaw and an example how to use it in the Notebook \"ThawDepth.ipynb\""
   ]
  },
  {
   "cell_type": "code",
   "execution_count": null,
   "id": "82e4a162-6453-4ccc-9230-10b11185404e",
   "metadata": {},
   "outputs": [],
   "source": [
    "#add here your the thaw depth functions and your calculations of the polygon rim thaw depth relatice to the polygon center water table\n",
    "\n"
   ]
  },
  {
   "cell_type": "markdown",
   "id": "32d2a4d6-9d19-4f7e-90e0-3662cd99f4a8",
   "metadata": {},
   "source": [
    "Now its time to make a nice plot"
   ]
  },
  {
   "cell_type": "code",
   "execution_count": null,
   "id": "dff30ef6-b7e3-4046-b35c-a29eadbfe269",
   "metadata": {},
   "outputs": [],
   "source": [
    "#add here your ploting script\n",
    "\n",
    "\n"
   ]
  }
 ],
 "metadata": {
  "kernelspec": {
   "display_name": "Python 3 (ipykernel)",
   "language": "python",
   "name": "python3"
  },
  "language_info": {
   "codemirror_mode": {
    "name": "ipython",
    "version": 3
   },
   "file_extension": ".py",
   "mimetype": "text/x-python",
   "name": "python",
   "nbconvert_exporter": "python",
   "pygments_lexer": "ipython3",
   "version": "3.8.10"
  },
  "toc-autonumbering": true,
  "vscode": {
   "interpreter": {
    "hash": "916dbcbb3f70747c44a77c7bcd40155683ae19c65e1c03b4aa3499c5328201f1"
   }
  }
 },
 "nbformat": 4,
 "nbformat_minor": 5
}
