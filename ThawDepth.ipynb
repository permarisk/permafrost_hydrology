{
 "cells": [
  {
   "cell_type": "code",
   "execution_count": 29,
   "id": "7e6f5192-73e7-4e65-b7ce-35fb2e40c1c0",
   "metadata": {},
   "outputs": [],
   "source": [
    "import numpy as np\n",
    "import pandas as pd\n"
   ]
  },
  {
   "cell_type": "markdown",
   "id": "a659ea1c",
   "metadata": {},
   "source": [
    "The thermal conductivity of a soil $K_h$ is determined by both its composition and its texture. There are several models to approximate the thermal conductivity of the soil. A very rough approximation is provided by the following model\n",
    "\n",
    "$\n",
    "K_h \\approx\\left(\\theta_u k_w^{0.5}+\\theta_m k_m^{0.5}+\\theta_o k_o^{0.5}+\\theta_a k_a^{0.5}\\right)^2\n",
    "$,\n",
    "\n",
    "\n",
    "where $\\theta$ is the volumetric fraction of soil constituents with indices w for water, m for mineral, o for organic, and a for air. \n",
    "\n"
   ]
  },
  {
   "cell_type": "code",
   "execution_count": 30,
   "id": "ee9072ee-0910-4cdd-a65c-269be30b9823",
   "metadata": {},
   "outputs": [],
   "source": [
    "def ThermalConductivity(Water, Mineral, Organic):\n",
    "    \n",
    "    #thermal conductivty estimated according to \n",
    "    ka = 0.025;       #air [Hillel(1982)]\n",
    "    kw = 0.57;        #water [Hillel(1982)]\n",
    "    ko = 0.25;        #organic [Hillel(1982)]\n",
    "    km = 3.8;         #mineral [Hillel(1982)]\n",
    "    ki = 2.2;         #ice [Hillel(1982)]\n",
    "\n",
    "    #this is a git test \n",
    "\n",
    "    air = 1.0 - Water - Mineral - Organic\n",
    "    TC = (Water * kw**0.5 + Mineral * km**0.5 + Organic * ko**0.5 + air * ka**0.5)**2.0\n",
    "    return TC"
   ]
  },
  {
   "cell_type": "markdown",
   "id": "b98337a5",
   "metadata": {},
   "source": [
    "Thaw depth can be approximated using the Stefan equation\n",
    "\n",
    "$d(t)=\\sqrt{\\frac{2 K_h|J(t)|}{\\rho_w L_{\\mathrm{sl}} \\theta_w}}$,\n",
    "\n",
    "where $d(t)$ is the thaw depth, $J(t)$ is the cummulative summe the thawing degree seconds, $\\rho_w$ is the density of water, $L_{\\mathrm{sl}}$ is the latent heat of fusion of water.  \n",
    "\n",
    "\n"
   ]
  },
  {
   "cell_type": "code",
   "execution_count": 35,
   "id": "d29fd3fa-9af2-47a3-b946-da059f18336b",
   "metadata": {},
   "outputs": [],
   "source": [
    "def ThawDepth(Tav,Theta_w, Theta_m, Theta_o):\n",
    "    L_sl = 334.0e3 #J/kg laten heat of fusion\n",
    "    rho_w = 1000 #[kg/m³] denstiy of water\n",
    "    dt = 86400 #[s] seconds per day\n",
    "    \n",
    "    TC_t = ThermalConductivity(Theta_w, Theta_m, Theta_o) #[W/mK] thermal conductivity\n",
    "\n",
    "    J = np.cumsum(TC_t/Theta_w * Tav * (Tav>0.0)) * dt #[Ks] integrated thawing degree days \n",
    "        \n",
    "    d = ((2.)/(rho_w * L_sl) * np.abs(J))**0.5 #[m] thaw depth\n",
    "    \n",
    "    T_f = 0. #[°C]\n",
    "    \n",
    "    G = TC_t * (Tav - T_f) / d * dt / 1e6 #[MJ/day] ground heat flux per day\n",
    "    G[np.isinf(G)] = 0.0 #set inf to zero if d == 0\n",
    "    G[np.isnan(G)] = 0.0 #set nan to zero if d and Tav == 0\n",
    "    \n",
    "    return d, G"
   ]
  },
  {
   "cell_type": "code",
   "execution_count": 36,
   "id": "70a34173-0fa9-4ca1-9e74-5c2d9f4f18d5",
   "metadata": {},
   "outputs": [
    {
     "data": {
      "text/plain": [
       "<matplotlib.axes._subplots.AxesSubplot at 0x7fa334e961c0>"
      ]
     },
     "execution_count": 36,
     "metadata": {},
     "output_type": "execute_result"
    },
    {
     "data": {
      "image/png": "[encoded data removed]",
      "text/plain": [
       "<Figure size 640x480 with 1 Axes>"
      ]
     },
     "metadata": {},
     "output_type": "display_data"
    }
   ],
   "source": [
    "#load meteorological observations\n",
    "file = 'data/Samoylov_2002-2011_meteorology.tab'\n",
    "dataset = pd.read_csv(file,delimiter=\"\\t\")\n",
    "dataset['DateTime'] = pd.to_datetime(dataset['Date/Time'])\n",
    "dataset = dataset.drop(columns=['Date/Time'])\n",
    "\n",
    "dataset = dataset.set_index(['DateTime'])\n",
    "dataset = dataset.loc['2011-1-1':'2011-9-1'] \n",
    "\n",
    "df_mean = dataset.groupby(by=pd.Grouper(freq='D')).mean() \n",
    "meteorology_mean = df_mean   \n",
    "\n",
    "T_av = meteorology_mean['T2 [°C]'] \n",
    "\n",
    "Theta_w = 0.8\n",
    "Theta_m = 0.1\n",
    "Theta_o = 0.1\n",
    "\n",
    "[thaw_depth, G] = ThawDepth(T_av,Theta_w, Theta_m, Theta_o)\n",
    "thaw_depth.plot()"
   ]
  },
  {
   "cell_type": "code",
   "execution_count": null,
   "id": "e9e2b6d4-100d-4ae0-8cc2-5586d366ca6e",
   "metadata": {},
   "outputs": [],
   "source": []
  },
  {
   "cell_type": "code",
   "execution_count": null,
   "id": "ad882525",
   "metadata": {},
   "outputs": [],
   "source": []
  },
  {
   "cell_type": "code",
   "execution_count": null,
   "id": "b9bd7a19",
   "metadata": {},
   "outputs": [],
   "source": []
  }
 ],
 "metadata": {
  "kernelspec": {
   "display_name": "Python 3 (ipykernel)",
   "language": "python",
   "name": "python3"
  },
  "language_info": {
   "codemirror_mode": {
    "name": "ipython",
    "version": 3
   },
   "file_extension": ".py",
   "mimetype": "text/x-python",
   "name": "python",
   "nbconvert_exporter": "python",
   "pygments_lexer": "ipython3",
   "version": "3.8.10"
  },
  "vscode": {
   "interpreter": {
    "hash": "916dbcbb3f70747c44a77c7bcd40155683ae19c65e1c03b4aa3499c5328201f1"
   }
  }
 },
 "nbformat": 4,
 "nbformat_minor": 5
}
